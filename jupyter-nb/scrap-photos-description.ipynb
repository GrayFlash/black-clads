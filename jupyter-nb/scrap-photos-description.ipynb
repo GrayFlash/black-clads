{
 "cells": [
  {
   "cell_type": "code",
   "execution_count": 16,
   "id": "9392df66",
   "metadata": {},
   "outputs": [
    {
     "name": "stdout",
     "output_type": "stream",
     "text": [
      "Defaulting to user installation because normal site-packages is not writeable\n",
      "Collecting git+https://github.com/lucasdnd/Wikipedia.git\n",
      "  Cloning https://github.com/lucasdnd/Wikipedia.git to /tmp/pip-req-build-qit24l0_\n",
      "  Running command git clone --filter=blob:none --quiet https://github.com/lucasdnd/Wikipedia.git /tmp/pip-req-build-qit24l0_\n",
      "  Resolved https://github.com/lucasdnd/Wikipedia.git to commit 2caf51408d3f648ce2e8436dfc196cbed08ac964\n",
      "  Preparing metadata (setup.py) ... \u001b[?25ldone\n",
      "\u001b[?25hRequirement already satisfied: beautifulsoup4 in /usr/lib/python3/dist-packages (from wikipedia==1.4.0) (4.10.0)\n",
      "Requirement already satisfied: requests<3.0.0,>=2.0.0 in /usr/lib/python3/dist-packages (from wikipedia==1.4.0) (2.25.1)\n"
     ]
    }
   ],
   "source": [
    "!pip install git+https://github.com/lucasdnd/Wikipedia.git"
   ]
  },
  {
   "cell_type": "code",
   "execution_count": 6,
   "id": "30f50d28",
   "metadata": {},
   "outputs": [],
   "source": [
    "import wikipedia\n",
    "import requests\n",
    "import json\n",
    "\n",
    "WIKI_REQUEST = 'http://en.wikipedia.org/w/api.php?action=query&prop=pageimages&format=json&piprop=original&titles='"
   ]
  },
  {
   "cell_type": "code",
   "execution_count": 7,
   "id": "830d698b",
   "metadata": {},
   "outputs": [],
   "source": [
    "wiki = wikipedia.page(\"times square (place)\")"
   ]
  },
  {
   "cell_type": "code",
   "execution_count": 8,
   "id": "740de577",
   "metadata": {},
   "outputs": [
    {
     "name": "stdout",
     "output_type": "stream",
     "text": [
      "Times Square\n",
      "https://en.wikipedia.org/wiki/Times_Square\n",
      "Times Square is a major commercial intersection, tourist destination, entertainment hub, and neighborhood in Midtown Manhattan, New York City. It is formed by the junction of Broadway, Seventh Avenue, and 42nd Street. Together with adjacent Duffy Square, Times Square is a bowtie-shaped space five blocks long between 42nd and 47th Streets.\n",
      "Brightly lit at all hours by numerous digital billboards and advertisements as well as businesses offering 24/7 service, Times Square is sometimes referred to as \"the Crossroads of the World\", \"the Center of the Universe\", \"the heart of the Great White Way\", “the Center of the Entertainment Universe”, and \"the heart of the world\".One of the world's busiest pedestrian areas, it is also the hub of the Broadway Theater District and a major center of the world's entertainment industry. Times Square is one of the world's most visited tourist attractions, drawing an estimated 50 million visitors annually. Approximately 330,000 people pass through Times Squa\n",
      "26\n"
     ]
    }
   ],
   "source": [
    "print(wiki.title)\n",
    "print(wiki.url)\n",
    "print(wiki.content[:1000])\n",
    "print(len(wiki.images))"
   ]
  },
  {
   "cell_type": "code",
   "execution_count": 10,
   "id": "9337ac43",
   "metadata": {},
   "outputs": [],
   "source": [
    "response  = requests.get(WIKI_REQUEST+wiki.title)\n",
    "json_data = json.loads(response.text)\n",
    "img_link = list(json_data['query']['pages'].values())[0]['original']['source']\n",
    "        "
   ]
  },
  {
   "cell_type": "code",
   "execution_count": 11,
   "id": "9b73b58c",
   "metadata": {},
   "outputs": [
    {
     "data": {
      "text/plain": [
       "'https://upload.wikimedia.org/wikipedia/commons/4/47/New_york_times_square-terabass.jpg'"
      ]
     },
     "execution_count": 11,
     "metadata": {},
     "output_type": "execute_result"
    }
   ],
   "source": [
    "img_link"
   ]
  },
  {
   "cell_type": "code",
   "execution_count": null,
   "id": "22014661",
   "metadata": {},
   "outputs": [],
   "source": []
  }
 ],
 "metadata": {
  "kernelspec": {
   "display_name": "Python 3 (ipykernel)",
   "language": "python",
   "name": "python3"
  },
  "language_info": {
   "codemirror_mode": {
    "name": "ipython",
    "version": 3
   },
   "file_extension": ".py",
   "mimetype": "text/x-python",
   "name": "python",
   "nbconvert_exporter": "python",
   "pygments_lexer": "ipython3",
   "version": "3.10.6"
  }
 },
 "nbformat": 4,
 "nbformat_minor": 5
}
